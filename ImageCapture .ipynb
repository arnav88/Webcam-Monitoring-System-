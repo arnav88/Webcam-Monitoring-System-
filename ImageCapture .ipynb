{
 "cells": [
  {
   "cell_type": "code",
   "execution_count": 1,
   "id": "9f33eb0a",
   "metadata": {},
   "outputs": [],
   "source": [
    "#Importing Libraries\n",
    "import cv2\n",
    "import os\n",
    "import time\n",
    "from tkinter import Tk"
   ]
  },
  {
   "cell_type": "code",
   "execution_count": 2,
   "id": "36505390",
   "metadata": {},
   "outputs": [
    {
     "name": "stdout",
     "output_type": "stream",
     "text": [
      "The Path chosen is:  C:/Users/Arnav/Pictures/Arnav/Webcam\n",
      "Enter the time interval in seconds :20\n"
     ]
    }
   ],
   "source": [
    "from tkinter.filedialog import askdirectory\n",
    "path = askdirectory(title='Select Folder') # shows dialog box and return the path\n",
    "print('The Path chosen is: ',path)  \n",
    "t=int(input(\"Enter the time interval in seconds :\"))"
   ]
  },
  {
   "cell_type": "code",
   "execution_count": 3,
   "id": "4bb7d9af",
   "metadata": {},
   "outputs": [
    {
     "name": "stdout",
     "output_type": "stream",
     "text": [
      "309 Saved!\n",
      "713 Saved!\n",
      "1117 Saved!\n",
      "1521 Saved!\n",
      "1924 Saved!\n",
      "Space hit, closing ...\n"
     ]
    }
   ],
   "source": [
    "capture = cv2.VideoCapture(0)\n",
    "img_counter = 0\n",
    "start_time = time.time()\n",
    "\n",
    "while True:\n",
    "    ret, frame = capture.read()\n",
    "    cv2.imshow(\"Webcam Image Capturing\",frame)\n",
    "    k = cv2.waitKey(1)\n",
    "    \n",
    "    if k%256 == 32:\n",
    "    # Space pressed\n",
    "      print(\"Space hit, closing ...\")\n",
    "      break\n",
    "    \n",
    "    if time.time() - start_time >= t:     #Check if 10 sec passed\n",
    "        img_name = \"image_{}_.png\".format(img_counter)\n",
    "        cv2.imwrite(os.path.join(path,img_name),frame) \n",
    "        print(\"{} Saved!\".format(img_counter))\n",
    "        start_time = time.time()\n",
    "    img_counter += 1\n",
    "    \n",
    "capture.release()\n",
    "cv2.destroyAllWindows()"
   ]
  },
  {
   "cell_type": "code",
   "execution_count": null,
   "id": "601b25fe",
   "metadata": {},
   "outputs": [],
   "source": []
  }
 ],
 "metadata": {
  "kernelspec": {
   "display_name": "Python 3",
   "language": "python",
   "name": "python3"
  },
  "language_info": {
   "codemirror_mode": {
    "name": "ipython",
    "version": 3
   },
   "file_extension": ".py",
   "mimetype": "text/x-python",
   "name": "python",
   "nbconvert_exporter": "python",
   "pygments_lexer": "ipython3",
   "version": "3.8.8"
  }
 },
 "nbformat": 4,
 "nbformat_minor": 5
}
